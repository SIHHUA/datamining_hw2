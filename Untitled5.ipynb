{
 "cells": [
  {
   "cell_type": "code",
   "execution_count": 399,
   "metadata": {},
   "outputs": [],
   "source": [
    "import random\n",
    "import numpy as np\n",
    "import pandas as pd\n",
    "from sklearn.model_selection import train_test_split\n",
    "from sklearn.tree import DecisionTreeClassifier\n",
    "from sklearn import tree\n",
    "from sklearn.metrics import accuracy_score\n",
    "\n",
    "data = [\"sex\",\"weight\",\"height\",\"visceral_fat\",\"body_fat\",\"obesity\",\"status\"]\n",
    "a = np.zeros([10000,7])\n",
    "#給值\n",
    "for i in range(len(a)):\n",
    "    a[i] = [random.randrange(0,2,1),random.randrange(30,151,1),random.randrange(100,201,1),random.randrange(1,16,1),random.randrange(1,46,1),random.randrange(-20,21,1),0]\n",
    "#給答案\n",
    "for i in range(len(a)):\n",
    "    little = 0\n",
    "    normal = 0\n",
    "    excessive = 0\n",
    "    if a[i][0] == 0: #man\n",
    "        #visceral_fat\n",
    "        if a[i][3] < 4:\n",
    "            little += 1\n",
    "        elif a[i][3] > 6:\n",
    "            excessive += 1\n",
    "        else:\n",
    "            normal += 1\n",
    "        \n",
    "        #body_fat\n",
    "        if a[i][4] < 14:\n",
    "            little += 1\n",
    "        elif a[i][4] > 20:\n",
    "            excessive += 1\n",
    "        else:\n",
    "            normal += 1\n",
    "    else: #woman\n",
    "        #visceral_fat\n",
    "        if a[i][3] < 2:\n",
    "            little += 1\n",
    "        elif a[i][3] > 4:\n",
    "            excessive += 1\n",
    "        else:\n",
    "            normal += 1\n",
    "        \n",
    "        #body_fat\n",
    "        if a[i][4] < 17:\n",
    "            little += 1\n",
    "        elif a[i][4] > 24:\n",
    "            excessive += 1\n",
    "        else:\n",
    "            normal += 1\n",
    "    #BMI\n",
    "    if (a[i][1]/((a[i][2]/100)**2)) <18.5:\n",
    "            little += 1\n",
    "    elif (a[i][1]/((a[i][2]/100)**2)) >24: \n",
    "        excessive += 1\n",
    "    else:\n",
    "        normal += 1\n",
    "        \n",
    "    #obesity\n",
    "    if a[i][5] <-10:\n",
    "        little += 1\n",
    "    elif a[i][5] >10:\n",
    "        excessive += 1\n",
    "    else:\n",
    "        normal += 1\n",
    "        \n",
    "    if little > excessive and little > normal:\n",
    "        a[i][6] = 0      #Malnutrition\n",
    "    if excessive > little and excessive > normal:\n",
    "        a[i][6] = 1      #Overnutrition\n",
    "    if normal > little and normal > excessive:\n",
    "        a[i][6] = 2      #Health\n",
    "        \n",
    "df = pd.DataFrame(a.T, index=data)\n",
    "df = df.T"
   ]
  },
  {
   "cell_type": "code",
   "execution_count": 409,
   "metadata": {},
   "outputs": [
    {
     "data": {
      "text/plain": [
       "0.9186666666666666"
      ]
     },
     "execution_count": 409,
     "metadata": {},
     "output_type": "execute_result"
    }
   ],
   "source": [
    "#split train & test\n",
    "x_train, x_test, y_train, y_test = train_test_split(df[[\"sex\",\"weight\",\"height\",\"visceral_fat\",\"body_fat\",\"obesity\"]], df[[\"status\"]], test_size=0.3, random_state=None)\n",
    "\n",
    "clf_entropy = DecisionTreeClassifier(criterion = \"gini\", random_state = None) #max_depth, min_samples_leaf\n",
    "clf_entropy.fit(x_train, y_train)\n",
    "\n",
    "y_predict = clf_entropy.predict(x_test)\n",
    "\n",
    "accuracy_score(y_test, y_predict)"
   ]
  },
  {
   "cell_type": "code",
   "execution_count": 403,
   "metadata": {},
   "outputs": [
    {
     "data": {
      "text/plain": [
       "0.738"
      ]
     },
     "execution_count": 403,
     "metadata": {},
     "output_type": "execute_result"
    }
   ],
   "source": [
    "from sklearn import neighbors\n",
    "# from sklearn.neighbors import KNeighborsClassifier\n",
    "# 切分訓練與測試資料\n",
    "# 訓練電腦的(0.7)、一部份用來測試(0.3)。\n",
    "train_X, test_X, train_y, test_y = train_test_split(df[[\"sex\",\"weight\",\"height\",\"visceral_fat\",\"body_fat\",\"obesity\"]], df[[\"status\"]], test_size=0.3, random_state=None)\n",
    "\n",
    "# 建立分類器\n",
    "clf = neighbors.KNeighborsClassifier(n_neighbors=5, weights='uniform', algorithm='auto', p=2, metric='minkowski', metric_params=None, n_jobs=1)\n",
    "health_clf = clf.fit(train_X, train_y.values.ravel())\n",
    "\n",
    "# 預測\n",
    "test_y_predicted = health_clf.predict(test_X)\n",
    "\n",
    "# 標準答案\n",
    "accuracy_score(test_y, test_y_predicted)"
   ]
  }
 ],
 "metadata": {
  "kernelspec": {
   "display_name": "Python 3",
   "language": "python",
   "name": "python3"
  },
  "language_info": {
   "codemirror_mode": {
    "name": "ipython",
    "version": 3
   },
   "file_extension": ".py",
   "mimetype": "text/x-python",
   "name": "python",
   "nbconvert_exporter": "python",
   "pygments_lexer": "ipython3",
   "version": "3.7.0"
  }
 },
 "nbformat": 4,
 "nbformat_minor": 2
}
